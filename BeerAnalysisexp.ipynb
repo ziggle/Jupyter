{
 "cells": [
  {
   "cell_type": "markdown",
   "metadata": {
    "hideCode": false,
    "hidePrompt": false
   },
   "source": [
    "#References\n",
    "<ul>\n",
    "<li>[Good pivot table reference](http://pandas.pydata.org/pandas-docs/stable/reshaping.html)</li>\n",
    "<li>[Isohumolone reference](https://en.wikipedia.org/wiki/Isohumulone)</li>\n",
    "<li>[Data Source](http://www.jeannicholashould.com/python-web-scraping-tutorial-for-craft-beers.html)</li>\n",
    "</ul>\n",
    "\n",
    "##Definitions\n",
    "<br>\n",
    "<dl>\n",
    "<dt>International Bittering Units  (IBU)</dt>\n",
    "<dd>A metric used to approximately quantify the bitterness of beer. An IBU is measured in parts-per-million (ppm) of [isohumolone](https://en.wikipedia.org/wiki/Isohumulone), the main chemical compound derived from hops that makes beer taste bitter. Isohumulone is created when the alpha acids in hops isomerize, or breakdown, in the boil. </dd>\n",
    "<dt>Alcohol By Volume (ABV)</dt>\n",
    "<dd>ABV is defined as the number of millilitres of pure ethanol present in 100 millilitres (3.4 US fl oz) of solution at 20 °C (68 °F). The number of millilitres of pure ethanol is the mass of the ethanol divided by its density at 20 °C, which is 0.78924 g/ml. The ABV standard is used worldwide. </dd>\n",
    "<dt>Proof</dt>\n",
    "<dd>Proof is a measure of the content of ethanol (alcohol) in an alcoholic beverage. The term was originally used in the United Kingdom and was equal to about 1.75 times the alcohol by volume (ABV). The UK now uses the ABV standard instead of alcohol proof. In the United States, alcohol proof is defined as twice the percentage of ABV.</dd>\n",
    "<dt>Isohumulone</dt>\n",
    "<dd>An alpha acid generated when hops breaksdown during boiling.</dd>\n",
    "</dl>"
   ]
  },
  {
   "cell_type": "markdown",
   "metadata": {},
   "source": [
    "#Analysis"
   ]
  },
  {
   "cell_type": "markdown",
   "metadata": {
    "hideCode": false,
    "hidePrompt": false
   },
   "source": [
    "##Import Libraries\n",
    "\n",
    "There are four libraries used:\n",
    "\n",
    "* pandas, provides dataframe capability\n",
    "* numpy, provides numeric processing\n",
    "* re, provides regular expressions\n",
    "* nbextensions, provides twiddle features\n"
   ]
  },
  {
   "cell_type": "code",
   "execution_count": 25,
   "metadata": {
    "code_folding": [
     7,
     10
    ],
    "collapsed": true,
    "hidden": true,
    "hideCode": false,
    "hidePrompt": false
   },
   "outputs": [],
   "source": [
    "import pandas as pd\n",
    "import numpy as np\n",
    "import seaborn as sns\n",
    "import re\n",
    "from notebook.nbextensions import check_nbextension\n",
    "check_nbextension('codefolding', user=True)\n",
    "check_nbextension('codefolding/main.js', user=True)\n",
    "ext_require_path = 'codefolding/main'\n",
    "try:  # notebook >= 4.2.0\n",
    "    from notebook.nbextensions import enable_nbextension\n",
    "    enable_nbextension('notebook', ext_require_path)\n",
    "except ImportError:\n",
    "    from notebook.nbextensions import EnableNBExtensionApp\n",
    "    EnableNBExtensionApp().enable_nbextension(ext_require_path)"
   ]
  },
  {
   "cell_type": "markdown",
   "metadata": {
    "hideCode": false,
    "hidePrompt": false,
    "hide_input": true
   },
   "source": [
    "#Beer Statistics\n"
   ]
  },
  {
   "cell_type": "markdown",
   "metadata": {
    "hidden": true,
    "hideCode": false,
    "hidePrompt": false
   },
   "source": [
    "##Data Import\n",
    "\n",
    "This section imports and parses the data."
   ]
  },
  {
   "cell_type": "code",
   "execution_count": 26,
   "metadata": {
    "code_folding": [
     4,
     11
    ],
    "collapsed": false,
    "hidden": true,
    "hideCode": false,
    "hidePrompt": false,
    "scrolled": false
   },
   "outputs": [
    {
     "data": {
      "text/html": [
       "<div>\n",
       "<table border=\"1\" class=\"dataframe\">\n",
       "  <thead>\n",
       "    <tr style=\"text-align: right;\">\n",
       "      <th></th>\n",
       "      <th>NAME</th>\n",
       "      <th>STYLE</th>\n",
       "      <th>OZ</th>\n",
       "    </tr>\n",
       "    <tr>\n",
       "      <th>SEQ</th>\n",
       "      <th></th>\n",
       "      <th></th>\n",
       "      <th></th>\n",
       "    </tr>\n",
       "  </thead>\n",
       "  <tbody>\n",
       "    <tr>\n",
       "      <th>0</th>\n",
       "      <td>Pub Beer</td>\n",
       "      <td>American Pale Lager</td>\n",
       "      <td>12.0</td>\n",
       "    </tr>\n",
       "    <tr>\n",
       "      <th>1</th>\n",
       "      <td>Devil's Cup</td>\n",
       "      <td>American Pale Ale (APA)</td>\n",
       "      <td>12.0</td>\n",
       "    </tr>\n",
       "    <tr>\n",
       "      <th>2</th>\n",
       "      <td>Rise of the Phoenix</td>\n",
       "      <td>American IPA</td>\n",
       "      <td>12.0</td>\n",
       "    </tr>\n",
       "    <tr>\n",
       "      <th>3</th>\n",
       "      <td>Sinister</td>\n",
       "      <td>American Double / Imperial IPA</td>\n",
       "      <td>12.0</td>\n",
       "    </tr>\n",
       "    <tr>\n",
       "      <th>4</th>\n",
       "      <td>Sex and Candy</td>\n",
       "      <td>American IPA</td>\n",
       "      <td>12.0</td>\n",
       "    </tr>\n",
       "    <tr>\n",
       "      <th>5</th>\n",
       "      <td>Black Exodus</td>\n",
       "      <td>Oatmeal Stout</td>\n",
       "      <td>12.0</td>\n",
       "    </tr>\n",
       "    <tr>\n",
       "      <th>6</th>\n",
       "      <td>Lake Street Express</td>\n",
       "      <td>American Pale Ale (APA)</td>\n",
       "      <td>12.0</td>\n",
       "    </tr>\n",
       "    <tr>\n",
       "      <th>7</th>\n",
       "      <td>Foreman</td>\n",
       "      <td>American Porter</td>\n",
       "      <td>12.0</td>\n",
       "    </tr>\n",
       "    <tr>\n",
       "      <th>8</th>\n",
       "      <td>Jade</td>\n",
       "      <td>American Pale Ale (APA)</td>\n",
       "      <td>12.0</td>\n",
       "    </tr>\n",
       "    <tr>\n",
       "      <th>9</th>\n",
       "      <td>Cone Crusher</td>\n",
       "      <td>American Double / Imperial IPA</td>\n",
       "      <td>12.0</td>\n",
       "    </tr>\n",
       "  </tbody>\n",
       "</table>\n",
       "</div>"
      ],
      "text/plain": [
       "                    NAME                           STYLE    OZ\n",
       "SEQ                                                           \n",
       "0               Pub Beer             American Pale Lager  12.0\n",
       "1            Devil's Cup         American Pale Ale (APA)  12.0\n",
       "2    Rise of the Phoenix                    American IPA  12.0\n",
       "3               Sinister  American Double / Imperial IPA  12.0\n",
       "4          Sex and Candy                    American IPA  12.0\n",
       "5           Black Exodus                   Oatmeal Stout  12.0\n",
       "6    Lake Street Express         American Pale Ale (APA)  12.0\n",
       "7                Foreman                 American Porter  12.0\n",
       "8                   Jade         American Pale Ale (APA)  12.0\n",
       "9           Cone Crusher  American Double / Imperial IPA  12.0"
      ]
     },
     "execution_count": 26,
     "metadata": {},
     "output_type": "execute_result"
    }
   ],
   "source": [
    "filename = 'beers.csv'\n",
    "#I will read my file into a list\n",
    "clean_file = []\n",
    "# Make sure file gets closed after being iterated\n",
    "with open(filename, 'r') as f:\n",
    "   # Read the file contents and generate a list for each line\n",
    "   lines = f.readlines()[1:]\n",
    "f.close()\n",
    "#I will use the following regular expression to parse my data\n",
    "pattern  = \"^(.*),(.*),(.*),(.*),(.*),(.*),(.*),(.*)$\"\n",
    "replace  = \"\\1\\t\\2\\t\\3\\t\\4\\t\\5\\t\\6\\t\\7\\t\\8n\"\n",
    "for line in lines:\n",
    "    match = re.search(pattern,line)  \n",
    "    L = [match.group(i) for i in range(1,9)] \n",
    "    clean_file.append(L)\n",
    "#The list is now parsed. I need to convert it into a dataframe\n",
    "labels=[\"SEQ\",\"ABV\",\"IBU\",\"ID\",\"NAME\",\"STYLE\",\"BI\",\"OZ\"]    \n",
    "beers = pd.DataFrame.from_records(clean_file,columns=labels)\n",
    "beers.set_index('SEQ', inplace=True)\n",
    "beers['NAME'] = beers['NAME'].map(lambda x: x.strip())\n",
    "beers['BI'] = beers['BI'].astype(str)\n",
    "beers['NAME'] = beers['NAME'].replace(to_replace=\\\n",
    "                '\\(\\d{4}\\)', value='', regex=True)\n",
    "beers['NAME'] = beers['NAME'].replace(to_replace=\\\n",
    "                '\\(Current\\)', value='', regex=True)\n",
    "beers.drop_duplicates(['NAME'], keep='last',inplace=True)\n",
    "beers.head(10).loc[:,[\"NAME\",'STYLE','OZ']]"
   ]
  },
  {
   "cell_type": "markdown",
   "metadata": {
    "hidden": true,
    "hideCode": false,
    "hidePrompt": false
   },
   "source": [
    "##Read in List of Breweries\n",
    "\n",
    "I have a list of craft brewers and the location (city and state). Here I import the brewer location data and merge the city and state columns into one."
   ]
  },
  {
   "cell_type": "code",
   "execution_count": 27,
   "metadata": {
    "collapsed": false,
    "hidden": true,
    "hideCode": false,
    "hidePrompt": false
   },
   "outputs": [
    {
     "data": {
      "text/html": [
       "<div>\n",
       "<table border=\"1\" class=\"dataframe\">\n",
       "  <thead>\n",
       "    <tr style=\"text-align: right;\">\n",
       "      <th></th>\n",
       "      <th>BI</th>\n",
       "      <th>BREWERY</th>\n",
       "      <th>CITYSTATE</th>\n",
       "    </tr>\n",
       "  </thead>\n",
       "  <tbody>\n",
       "    <tr>\n",
       "      <th>0</th>\n",
       "      <td>0</td>\n",
       "      <td>NorthGate Brewing</td>\n",
       "      <td>Minneapolis, MN</td>\n",
       "    </tr>\n",
       "    <tr>\n",
       "      <th>1</th>\n",
       "      <td>1</td>\n",
       "      <td>Against the Grain Brewery</td>\n",
       "      <td>Louisville, KY</td>\n",
       "    </tr>\n",
       "    <tr>\n",
       "      <th>2</th>\n",
       "      <td>2</td>\n",
       "      <td>Jack's Abby Craft Lagers</td>\n",
       "      <td>Framingham, MA</td>\n",
       "    </tr>\n",
       "    <tr>\n",
       "      <th>3</th>\n",
       "      <td>3</td>\n",
       "      <td>Mike Hess Brewing Company</td>\n",
       "      <td>San Diego, CA</td>\n",
       "    </tr>\n",
       "    <tr>\n",
       "      <th>4</th>\n",
       "      <td>4</td>\n",
       "      <td>Fort Point Beer Company</td>\n",
       "      <td>San Francisco, CA</td>\n",
       "    </tr>\n",
       "  </tbody>\n",
       "</table>\n",
       "</div>"
      ],
      "text/plain": [
       "  BI                    BREWERY          CITYSTATE\n",
       "0  0         NorthGate Brewing     Minneapolis, MN\n",
       "1  1  Against the Grain Brewery     Louisville, KY\n",
       "2  2   Jack's Abby Craft Lagers     Framingham, MA\n",
       "3  3  Mike Hess Brewing Company      San Diego, CA\n",
       "4  4    Fort Point Beer Company  San Francisco, CA"
      ]
     },
     "execution_count": 27,
     "metadata": {},
     "output_type": "execute_result"
    }
   ],
   "source": [
    "breweries=pd.read_csv(\"breweries.csv\",header=0)\n",
    "breweries.columns=['BI',\"BREWERY\",\"CITY\",\"STATE\"]\n",
    "breweries['CITY'] = breweries['CITY'].map(lambda x: x.strip())\n",
    "breweries['STATE'] = breweries['STATE'].map(lambda x: x.strip())\n",
    "breweries['BI'] = breweries['BI'].astype(str)\n",
    "breweries['CITYSTATE']=breweries['CITY']+\", \"+breweries['STATE']\n",
    "breweries.drop(['CITY','STATE'],axis=1,inplace=True)\n",
    "breweries.head()"
   ]
  },
  {
   "cell_type": "markdown",
   "metadata": {
    "hidden": true,
    "hideCode": false,
    "hidePrompt": false
   },
   "source": [
    "##Clean Up Beer Database\n",
    "\n",
    "The beer database is filled with duplicates. \n",
    "\n",
    "<ul>\n",
    "<li>Same beer entered on different years</li>\n",
    "<li>Same beer with lager add on the end of the name</li>\n",
    "<li>Same beer listed as \"(current)\"</li>\n",
    "</ul>\n",
    "\n",
    "This code cleans up these defects. It also merges the beer and brewery data."
   ]
  },
  {
   "cell_type": "code",
   "execution_count": 28,
   "metadata": {
    "collapsed": false,
    "hidden": true,
    "hideCode": false,
    "hidePrompt": false
   },
   "outputs": [],
   "source": [
    "combined=beers.merge(breweries,how='inner',on=\"BI\")\n",
    "combined.drop(['BI'],axis=1,inplace=True)\n",
    "combined.drop_duplicates(['NAME'], keep='last',inplace=True)\n",
    "combined.to_csv(\"combined3\", sep=',')\n",
    "combined['NAME']=combined['NAME'].replace('Point \\\n",
    "                    Special Lager','Point Special')\n",
    "combined['NAME'] = combined['NAME'].map(lambda x: x.strip())\n",
    "combined.drop_duplicates(['NAME'], keep='last',inplace=True)\n",
    "combined.to_csv(\"Crosscheck\")"
   ]
  },
  {
   "cell_type": "markdown",
   "metadata": {
    "hideCode": false,
    "hidePrompt": false
   },
   "source": [
    "#Query the Database\n",
    "\n",
    "##What Breweries Have The Greatest Number of Labels?\n",
    "I have assumed that most craft brewers have a small number of labels, which turns out to be true. I was surprised to see that some breweries, however, have a large number of labels. I was stunned to see that Brewery Vivant had 55 different beer labels."
   ]
  },
  {
   "cell_type": "code",
   "execution_count": 29,
   "metadata": {
    "collapsed": false,
    "hideCode": false,
    "hidePrompt": false
   },
   "outputs": [
    {
     "data": {
      "text/html": [
       "<div>\n",
       "<table border=\"1\" class=\"dataframe\">\n",
       "  <thead>\n",
       "    <tr style=\"text-align: right;\">\n",
       "      <th></th>\n",
       "      <th>LABELS</th>\n",
       "    </tr>\n",
       "    <tr>\n",
       "      <th>BREWERY</th>\n",
       "      <th></th>\n",
       "    </tr>\n",
       "  </thead>\n",
       "  <tbody>\n",
       "    <tr>\n",
       "      <th>Brewery Vivant</th>\n",
       "      <td>55</td>\n",
       "    </tr>\n",
       "    <tr>\n",
       "      <th>Sun King Brewing Company</th>\n",
       "      <td>34</td>\n",
       "    </tr>\n",
       "    <tr>\n",
       "      <th>Oskar Blues Brewery</th>\n",
       "      <td>23</td>\n",
       "    </tr>\n",
       "    <tr>\n",
       "      <th>Cigar City Brewing Company</th>\n",
       "      <td>23</td>\n",
       "    </tr>\n",
       "    <tr>\n",
       "      <th>Sixpoint Craft Ales</th>\n",
       "      <td>20</td>\n",
       "    </tr>\n",
       "    <tr>\n",
       "      <th>Upslope Brewing Company</th>\n",
       "      <td>18</td>\n",
       "    </tr>\n",
       "    <tr>\n",
       "      <th>Bonfire Brewing Company</th>\n",
       "      <td>17</td>\n",
       "    </tr>\n",
       "    <tr>\n",
       "      <th>Great Crescent Brewery</th>\n",
       "      <td>16</td>\n",
       "    </tr>\n",
       "    <tr>\n",
       "      <th>Sockeye Brewing Company</th>\n",
       "      <td>15</td>\n",
       "    </tr>\n",
       "    <tr>\n",
       "      <th>Great River Brewery</th>\n",
       "      <td>15</td>\n",
       "    </tr>\n",
       "  </tbody>\n",
       "</table>\n",
       "</div>"
      ],
      "text/plain": [
       "                            LABELS\n",
       "BREWERY                           \n",
       "Brewery Vivant                  55\n",
       "Sun King Brewing Company        34\n",
       "Oskar Blues Brewery             23\n",
       "Cigar City Brewing Company      23\n",
       "Sixpoint Craft Ales             20\n",
       "Upslope Brewing Company         18\n",
       "Bonfire Brewing Company         17\n",
       "Great Crescent Brewery          16\n",
       "Sockeye Brewing Company         15\n",
       "Great River Brewery             15"
      ]
     },
     "execution_count": 29,
     "metadata": {},
     "output_type": "execute_result"
    }
   ],
   "source": [
    "gg=combined[['BREWERY','NAME']]\n",
    "g=gg.groupby('BREWERY')\n",
    "g=g['NAME'].nunique().sort_values(ascending=False).head(10)\n",
    "g.name='LABELS'\n",
    "pd.DataFrame(g)"
   ]
  },
  {
   "cell_type": "markdown",
   "metadata": {
    "hideCode": false,
    "hidePrompt": false
   },
   "source": [
    "##Beers with the Highest ABV?\n",
    "\n",
    "In the US, the alcohol content of hard liquor is usually quoted in terms of proof. Beer is handled differently &ndash; its alcohol content is specified in terms of percentage alcohol by volume, ABV. I am used to seeing commercial brews with ABV values of 3% to 4%. I was a bit surprised to see the wide range of ABV values for craft brews. The table below shows the top ten craft brews in terms of ABV."
   ]
  },
  {
   "cell_type": "code",
   "execution_count": 30,
   "metadata": {
    "collapsed": false,
    "hideCode": false,
    "hidePrompt": false
   },
   "outputs": [
    {
     "data": {
      "text/html": [
       "<div>\n",
       "<table border=\"1\" class=\"dataframe\">\n",
       "  <thead>\n",
       "    <tr style=\"text-align: right;\">\n",
       "      <th></th>\n",
       "      <th>Alcohol By Volume</th>\n",
       "    </tr>\n",
       "    <tr>\n",
       "      <th>Beer Name</th>\n",
       "      <th></th>\n",
       "    </tr>\n",
       "  </thead>\n",
       "  <tbody>\n",
       "    <tr>\n",
       "      <th>Lee Hill Series Vol. 5 - Belgian Style Quadrupel Ale</th>\n",
       "      <td>12.8%</td>\n",
       "    </tr>\n",
       "    <tr>\n",
       "      <th>London Balling</th>\n",
       "      <td>12.5%</td>\n",
       "    </tr>\n",
       "    <tr>\n",
       "      <th>Csar</th>\n",
       "      <td>12.0%</td>\n",
       "    </tr>\n",
       "    <tr>\n",
       "      <th>Lee Hill Series Vol. 4 - Manhattan Style Rye Ale</th>\n",
       "      <td>10.4%</td>\n",
       "    </tr>\n",
       "    <tr>\n",
       "      <th>4Beans</th>\n",
       "      <td>10.0%</td>\n",
       "    </tr>\n",
       "    <tr>\n",
       "      <th>3Beans</th>\n",
       "      <td>9.9%</td>\n",
       "    </tr>\n",
       "    <tr>\n",
       "      <th>Axe Head Malt Liquor</th>\n",
       "      <td>9.9%</td>\n",
       "    </tr>\n",
       "    <tr>\n",
       "      <th>BLAKKR</th>\n",
       "      <td>9.9%</td>\n",
       "    </tr>\n",
       "    <tr>\n",
       "      <th>Barrel Aged Seven Devils Imperial Stout</th>\n",
       "      <td>9.9%</td>\n",
       "    </tr>\n",
       "    <tr>\n",
       "      <th>Big Chuck Barleywine</th>\n",
       "      <td>9.9%</td>\n",
       "    </tr>\n",
       "  </tbody>\n",
       "</table>\n",
       "</div>"
      ],
      "text/plain": [
       "                                                   Alcohol By Volume\n",
       "Beer Name                                                           \n",
       "Lee Hill Series Vol. 5 - Belgian Style Quadrupe...             12.8%\n",
       "London Balling                                                 12.5%\n",
       "Csar                                                           12.0%\n",
       "Lee Hill Series Vol. 4 - Manhattan Style Rye Ale               10.4%\n",
       "4Beans                                                         10.0%\n",
       "3Beans                                                          9.9%\n",
       "Axe Head Malt Liquor                                            9.9%\n",
       "BLAKKR                                                          9.9%\n",
       "Barrel Aged Seven Devils Imperial Stout                         9.9%\n",
       "Big Chuck Barleywine                                            9.9%"
      ]
     },
     "execution_count": 30,
     "metadata": {},
     "output_type": "execute_result"
    }
   ],
   "source": [
    "abv=combined[[\"NAME\",\"ABV\"]].sort_values([\"ABV\",\\\n",
    "        \"NAME\"],ascending=[False,True]).head(10)\n",
    "abv1=abv.set_index(\"NAME\")\n",
    "abv1.index.name=\"Beer Name\"\n",
    "abv1['ABV']=abv1[\"ABV\"].apply(lambda x: float(x)*\\\n",
    "                    100).apply(lambda x: str(x)+\"%\")\n",
    "abv1.columns=[\"Alcohol By Volume\"]\n",
    "abv1"
   ]
  },
  {
   "cell_type": "markdown",
   "metadata": {},
   "source": [
    "##ABV Histogram\n",
    "\n",
    "To get a feel for the distribution of beer ABVs, I generated the histogram shown below."
   ]
  },
  {
   "cell_type": "code",
   "execution_count": 31,
   "metadata": {
    "code_folding": [],
    "collapsed": false,
    "hideCode": false,
    "hidePrompt": false
   },
   "outputs": [
    {
     "data": {
      "image/png": "[encoded data removed]",
      "text/plain": [
       "<matplotlib.figure.Figure at 0x1be8797a5c0>"
      ]
     },
     "metadata": {},
     "output_type": "display_data"
    }
   ],
   "source": [
    "import matplotlib.pyplot as plt\n",
    "abv=combined[[\"NAME\",\"ABV\"]].sort_values([\"ABV\",\\\n",
    "                   \"NAME\"],ascending=[False,True])\n",
    "sns.set()\n",
    "abv['ABV'].replace('', np.nan, inplace=True)\n",
    "abv.dropna(subset=['ABV'], inplace=True)\n",
    "a=abv[\"ABV\"].apply(lambda x: float(x))\n",
    "binwidth=0.0025\n",
    "_ = plt.hist(a,bins=np.arange(min(a), max(a) + binwidth, \\\n",
    "                              binwidth),normed=True)\n",
    "_ = plt.xlabel('Alcohol By Volume')\n",
    "_ = plt.ylabel('Percentage (%)')\n",
    "plt.show()"
   ]
  },
  {
   "cell_type": "markdown",
   "metadata": {},
   "source": [
    "##Beewarm Plot\n",
    "\n",
    "Another way to show the distribution of ABV values is with a beeswarm plot, which I show below. Note that the beeswarm plot takes a lot of time to plot, so I subsetted the ABV data to speed things up."
   ]
  },
  {
   "cell_type": "code",
   "execution_count": 32,
   "metadata": {
    "collapsed": false,
    "hideCode": false,
    "hidePrompt": false,
    "scrolled": true
   },
   "outputs": [
    {
     "data": {
      "image/png": "[encoded data removed]",
      "text/plain": [
       "<matplotlib.figure.Figure at 0x1be88ad3cc0>"
      ]
     },
     "metadata": {},
     "output_type": "display_data"
    }
   ],
   "source": [
    "sns.set()\n",
    "x = [\"\"]*len(a)\n",
    "x = pd.Series(x)\n",
    "zz=x.to_frame().join(a.to_frame())\n",
    "zz.dropna(inplace=True)\n",
    "zzz=zz\n",
    "zz=zz.iloc[0:2000:3,:]\n",
    "zz.columns=['BEER','ABV']\n",
    "_ = sns.swarmplot(x='BEER',y='ABV',data=zz)\n",
    "_ = plt.xlabel('Beers')\n",
    "_ = plt.ylabel('Percentage')\n",
    "_ = plt.title('Beeswarm')\n",
    "plt.show()"
   ]
  },
  {
   "cell_type": "markdown",
   "metadata": {},
   "source": [
    "##Violin Plot\n",
    "\n",
    "Another approach to illustrating the ABV values is the violin plot. These plots can be extremely sophisticated. For this data, I will only add quartile lines &ndash; just remember that there are an enormous number of options for these plots. "
   ]
  },
  {
   "cell_type": "code",
   "execution_count": 33,
   "metadata": {
    "collapsed": false
   },
   "outputs": [
    {
     "data": {
      "image/png": "[encoded data removed]",
      "text/plain": [
       "<matplotlib.figure.Figure at 0x1be87982c18>"
      ]
     },
     "metadata": {},
     "output_type": "display_data"
    }
   ],
   "source": [
    "zzz.columns=['BEER','ABV']\n",
    "sns.set(style=\"whitegrid\", palette=\"pastel\", color_codes=True)\n",
    "sns.violinplot(x=\"BEER\", y=\"ABV\", inner='quart',data=zzz,split=True)\n",
    "plt.title('ABV Violin Plot')\n",
    "plt.show()"
   ]
  },
  {
   "cell_type": "markdown",
   "metadata": {
    "hideCode": false,
    "hidePrompt": false
   },
   "source": [
    "##What Cities Have the Most Craft Brewers?\n",
    "\n",
    "When I think of craft beers, I normally think of places like Bend, OR. The table below shows that craft breweries are popular in the places you would expect."
   ]
  },
  {
   "cell_type": "code",
   "execution_count": 34,
   "metadata": {
    "collapsed": false,
    "hideCode": false,
    "hidePrompt": false
   },
   "outputs": [
    {
     "data": {
      "text/html": [
       "<div>\n",
       "<table border=\"1\" class=\"dataframe\">\n",
       "  <thead>\n",
       "    <tr style=\"text-align: right;\">\n",
       "      <th></th>\n",
       "      <th>BREWERY_NUM</th>\n",
       "    </tr>\n",
       "    <tr>\n",
       "      <th>CITYSTATE</th>\n",
       "      <th></th>\n",
       "    </tr>\n",
       "  </thead>\n",
       "  <tbody>\n",
       "    <tr>\n",
       "      <th>Portland, OR</th>\n",
       "      <td>11</td>\n",
       "    </tr>\n",
       "    <tr>\n",
       "      <th>Chicago, IL</th>\n",
       "      <td>9</td>\n",
       "    </tr>\n",
       "    <tr>\n",
       "      <th>Seattle, WA</th>\n",
       "      <td>9</td>\n",
       "    </tr>\n",
       "    <tr>\n",
       "      <th>Boulder, CO</th>\n",
       "      <td>9</td>\n",
       "    </tr>\n",
       "    <tr>\n",
       "      <th>Austin, TX</th>\n",
       "      <td>8</td>\n",
       "    </tr>\n",
       "    <tr>\n",
       "      <th>Denver, CO</th>\n",
       "      <td>8</td>\n",
       "    </tr>\n",
       "    <tr>\n",
       "      <th>San Diego, CA</th>\n",
       "      <td>8</td>\n",
       "    </tr>\n",
       "    <tr>\n",
       "      <th>Portland, ME</th>\n",
       "      <td>6</td>\n",
       "    </tr>\n",
       "    <tr>\n",
       "      <th>Bend, OR</th>\n",
       "      <td>6</td>\n",
       "    </tr>\n",
       "    <tr>\n",
       "      <th>San Francisco, CA</th>\n",
       "      <td>5</td>\n",
       "    </tr>\n",
       "  </tbody>\n",
       "</table>\n",
       "</div>"
      ],
      "text/plain": [
       "                   BREWERY_NUM\n",
       "CITYSTATE                     \n",
       "Portland, OR                11\n",
       "Chicago, IL                  9\n",
       "Seattle, WA                  9\n",
       "Boulder, CO                  9\n",
       "Austin, TX                   8\n",
       "Denver, CO                   8\n",
       "San Diego, CA                8\n",
       "Portland, ME                 6\n",
       "Bend, OR                     6\n",
       "San Francisco, CA            5"
      ]
     },
     "execution_count": 34,
     "metadata": {},
     "output_type": "execute_result"
    }
   ],
   "source": [
    "gg=combined[['CITYSTATE','BREWERY']]\n",
    "g=gg.groupby('CITYSTATE')\n",
    "g1=g['BREWERY'].nunique().sort_values(ascending=False)\\\n",
    "                   .head(10) #Generates a Pandas series\n",
    "g1.name='BREWERY_NUM'\n",
    "pd.DataFrame(g1) #Converts a Pandas series to a \n",
    "                 #dataframe for pretty printing "
   ]
  },
  {
   "cell_type": "markdown",
   "metadata": {
    "hideCode": false,
    "hidePrompt": false
   },
   "source": [
    "##Number of Distinct Beer Varieties?\n",
    "\n",
    "I am always amazed when I see the number of different beer varieties. As yo can see in the following tables, IPAs are very popular."
   ]
  },
  {
   "cell_type": "code",
   "execution_count": 35,
   "metadata": {
    "collapsed": false,
    "hideCode": false,
    "hidePrompt": false
   },
   "outputs": [
    {
     "data": {
      "text/html": [
       "<div>\n",
       "<table border=\"1\" class=\"dataframe\">\n",
       "  <thead>\n",
       "    <tr style=\"text-align: right;\">\n",
       "      <th></th>\n",
       "      <th>Style Labels</th>\n",
       "    </tr>\n",
       "    <tr>\n",
       "      <th>Beer Style</th>\n",
       "      <th></th>\n",
       "    </tr>\n",
       "  </thead>\n",
       "  <tbody>\n",
       "    <tr>\n",
       "      <th>American IPA</th>\n",
       "      <td>380</td>\n",
       "    </tr>\n",
       "    <tr>\n",
       "      <th>American Pale Ale (APA)</th>\n",
       "      <td>212</td>\n",
       "    </tr>\n",
       "    <tr>\n",
       "      <th>American Amber / Red Ale</th>\n",
       "      <td>118</td>\n",
       "    </tr>\n",
       "    <tr>\n",
       "      <th>American Blonde Ale</th>\n",
       "      <td>97</td>\n",
       "    </tr>\n",
       "    <tr>\n",
       "      <th>American Double / Imperial IPA</th>\n",
       "      <td>94</td>\n",
       "    </tr>\n",
       "    <tr>\n",
       "      <th>American Pale Wheat Ale</th>\n",
       "      <td>71</td>\n",
       "    </tr>\n",
       "    <tr>\n",
       "      <th>American Porter</th>\n",
       "      <td>63</td>\n",
       "    </tr>\n",
       "    <tr>\n",
       "      <th>American Brown Ale</th>\n",
       "      <td>63</td>\n",
       "    </tr>\n",
       "    <tr>\n",
       "      <th>Saison / Farmhouse Ale</th>\n",
       "      <td>50</td>\n",
       "    </tr>\n",
       "    <tr>\n",
       "      <th>Witbier</th>\n",
       "      <td>49</td>\n",
       "    </tr>\n",
       "  </tbody>\n",
       "</table>\n",
       "</div>"
      ],
      "text/plain": [
       "                                Style Labels\n",
       "Beer Style                                  \n",
       "American IPA                             380\n",
       "American Pale Ale (APA)                  212\n",
       "American Amber / Red Ale                 118\n",
       "American Blonde Ale                       97\n",
       "American Double / Imperial IPA            94\n",
       "American Pale Wheat Ale                   71\n",
       "American Porter                           63\n",
       "American Brown Ale                        63\n",
       "Saison / Farmhouse Ale                    50\n",
       "Witbier                                   49"
      ]
     },
     "execution_count": 35,
     "metadata": {},
     "output_type": "execute_result"
    }
   ],
   "source": [
    "styles=combined[\"STYLE\"].value_counts(normalize=False).head(10)\n",
    "styles.name='Style Labels'\n",
    "styles.index.name='Beer Style'\n",
    "pd.DataFrame(styles)"
   ]
  },
  {
   "cell_type": "markdown",
   "metadata": {
    "hideCode": false,
    "hidePrompt": false
   },
   "source": [
    "##Which Beers are the Most Bitter?\n",
    "\n",
    "While the % alcohol level of the various beers are well known, the bitterness levels are less well known. However, a number of beers do specify their bitterness, and we can generate a table of these values with ease.\n",
    "\n",
    "Here is the label of the record holding bitter beer.\n",
    "\n"
   ]
  },
  {
   "cell_type": "markdown",
   "metadata": {
    "hideCode": false,
    "hidePrompt": false
   },
   "source": [
    "[Bitterness Link](https://en.wikipedia.org/wiki/Beer_measurement#Bitterness)"
   ]
  },
  {
   "cell_type": "code",
   "execution_count": 36,
   "metadata": {
    "collapsed": false,
    "hideCode": false,
    "hidePrompt": false
   },
   "outputs": [
    {
     "data": {
      "text/html": [
       "<div>\n",
       "<table border=\"1\" class=\"dataframe\">\n",
       "  <thead>\n",
       "    <tr style=\"text-align: right;\">\n",
       "      <th></th>\n",
       "      <th>IBU (PPM Isohumulone)</th>\n",
       "    </tr>\n",
       "    <tr>\n",
       "      <th>BITTER BEER</th>\n",
       "      <th></th>\n",
       "    </tr>\n",
       "  </thead>\n",
       "  <tbody>\n",
       "    <tr>\n",
       "      <th>Bitter Bitch Imperial IPA</th>\n",
       "      <td>138.0</td>\n",
       "    </tr>\n",
       "    <tr>\n",
       "      <th>Troopers Alley IPA</th>\n",
       "      <td>135.0</td>\n",
       "    </tr>\n",
       "    <tr>\n",
       "      <th>Dead-Eye DIPA</th>\n",
       "      <td>130.0</td>\n",
       "    </tr>\n",
       "    <tr>\n",
       "      <th>Bay of Bengal Double IPA</th>\n",
       "      <td>126.0</td>\n",
       "    </tr>\n",
       "    <tr>\n",
       "      <th>Heady Topper</th>\n",
       "      <td>120.0</td>\n",
       "    </tr>\n",
       "    <tr>\n",
       "      <th>Abrasive Ale</th>\n",
       "      <td>120.0</td>\n",
       "    </tr>\n",
       "    <tr>\n",
       "      <th>More Cowbell</th>\n",
       "      <td>118.0</td>\n",
       "    </tr>\n",
       "    <tr>\n",
       "      <th>Hop A-Peel</th>\n",
       "      <td>115.0</td>\n",
       "    </tr>\n",
       "    <tr>\n",
       "      <th>Overlord Imperial IPA</th>\n",
       "      <td>115.0</td>\n",
       "    </tr>\n",
       "    <tr>\n",
       "      <th>Blazing World</th>\n",
       "      <td>115.0</td>\n",
       "    </tr>\n",
       "  </tbody>\n",
       "</table>\n",
       "</div>"
      ],
      "text/plain": [
       "                           IBU (PPM Isohumulone)\n",
       "BITTER BEER                                     \n",
       "Bitter Bitch Imperial IPA                  138.0\n",
       "Troopers Alley IPA                         135.0\n",
       "Dead-Eye DIPA                              130.0\n",
       "Bay of Bengal Double IPA                   126.0\n",
       "Heady Topper                               120.0\n",
       "Abrasive Ale                               120.0\n",
       "More Cowbell                               118.0\n",
       "Hop A-Peel                                 115.0\n",
       "Overlord Imperial IPA                      115.0\n",
       "Blazing World                              115.0"
      ]
     },
     "execution_count": 36,
     "metadata": {},
     "output_type": "execute_result"
    }
   ],
   "source": [
    "combined['IBU'].replace('', np.nan, inplace=True)\n",
    "combined.dropna(subset=['IBU'], inplace=True)\n",
    "combined['IBU'] = combined['IBU'].astype('float64') \n",
    "combined.sort_values(by=['IBU'],ascending=False,axis=0,inplace=True)\n",
    "bitter=combined.set_index(['NAME'])['IBU']\n",
    "bit_beer=bitter.head(10)\n",
    "bit_beer.index.name=\"BITTER BEER\"\n",
    "bit_beer.name='IBU (PPM Isohumulone)'\n",
    "pd.DataFrame(bit_beer)"
   ]
  },
  {
   "cell_type": "markdown",
   "metadata": {
    "hideCode": false,
    "hidePrompt": false
   },
   "source": []
  }
 ],
 "metadata": {
  "anaconda-cloud": {},
  "hide_code_all_hidden": false,
  "kernelspec": {
   "display_name": "Python [conda root]",
   "language": "python",
   "name": "conda-root-py"
  },
  "language_info": {
   "codemirror_mode": {
    "name": "ipython",
    "version": 3
   },
   "file_extension": ".py",
   "mimetype": "text/x-python",
   "name": "python",
   "nbconvert_exporter": "python",
   "pygments_lexer": "ipython3",
   "version": "3.5.2"
  }
 },
 "nbformat": 4,
 "nbformat_minor": 1
}
